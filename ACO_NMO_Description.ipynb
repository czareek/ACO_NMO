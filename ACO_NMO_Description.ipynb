{
 "cells": [
  {
   "cell_type": "markdown",
   "id": "0a5591c3",
   "metadata": {},
   "source": [
    "# ACO_NMO\n",
    "Inteligencja roju, czy też inteligencja rozproszona, to pojęcie z zakresu sztucznej inteligencji. Wyjaśnia ono, jak grupa prymitywnych agentów, działających według prostych reguł, jest zdolna do wykonywania skomplikowanych zadań i podejmowania decyzji dzięki współpracy i komunikacji między sobą.\n",
    "\n",
    "Algorytm mrówkowy (ACO), opracowany przez M. Dorigo w 1992 roku w pracy *\"Optimization, Learning and Natural Algorithms\"* na Politecnico di Milano, opiera się na sposobie budowania rozwiązań przez przemieszczające się \"mrówki\". Mrówki te przechodzą od węzła do węzła na grafie (np. od miasta do miasta), wybierając kolejne kroki na podstawie intensywności feromonów oraz lokalnych heurystyk na krawędziach. \n",
    "\n",
    "Każda mrówka `k` przechodzi przez graf, tworząc rozwiązanie `S_k`. Przemieszczając się z węzła `i` do `j`, mrówka wybiera ścieżkę z prawdopodobieństwem `p_ij^k` danym przez:\n",
    "\n",
    "$$p_{ij}^k = \\frac{(\\tau_{ij})^{\\alpha} (\\eta_{ij})^{\\beta}}{\\sum_{l \\in N_i} (\\tau_{il})^{\\alpha} (\\eta_{il})^{\\beta}}$$\n",
    "\n",
    "gdzie:\n",
    "- `\\tau_{ij}`: intensywność feromonów na krawędzi `(i, j)`\n",
    "- `\\eta_{ij}`: wartość heurystyczna (np. odwrotność odległości `d_{ij}`)\n",
    "- `\\alpha`, `\\beta`: współczynniki wpływu feromonów (`\\alpha`) i heurystyki (`\\beta`)\n",
    "- `N_i`: zbiór węzłów dostępnych z węzła `i`\n",
    "\n",
    "Komunikacja między agentami odbywa się poprzez środowisko, czyli macierz feromonów. Po zbudowaniu rozwiązań przez wszystkie mrówki, feromony na krawędziach są aktualizowane według wzoru:\n",
    "\n",
    "$$\\tau_{ij} = (1 - \\rho) \\cdot \\tau_{ij} + \\sum_{k=1}^{m} \\Delta\\tau_{ij}^k$$\n",
    "\n",
    "gdzie:\n",
    "- `\\rho`: współczynnik parowania feromonów\n",
    "- `\\Delta\\tau_{ij}^k`: ilość feromonów dodanych przez mrówkę `k`, często zdefiniowana jako odwrotność długości trasy `S_k`:\n",
    "\n",
    "$$\\Delta\\tau_{ij}^k = \\frac{Q}{L_k} \\text{ jeśli mrówka k przeszła przez } (i, j)$$\n",
    "\n",
    "$$\\Delta\\tau_{ij}^k = 0 \\text{ w przeciwnym razie}$$\n",
    "\n",
    "gdzie:\n",
    "- `Q`: stała\n",
    "- `L_k`: długość trasy `S_k`\n",
    "\n",
    "Taki sposób działania prowadzi do wysokiego prawdopodobieństwa wyboru lepszych rozwiązań w kolejnych iteracjach."
   ]
  }
 ],
 "metadata": {},
 "nbformat": 4,
 "nbformat_minor": 5
}
